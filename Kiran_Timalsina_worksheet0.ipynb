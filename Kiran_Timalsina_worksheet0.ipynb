{
  "nbformat": 4,
  "nbformat_minor": 0,
  "metadata": {
    "colab": {
      "provenance": []
    },
    "kernelspec": {
      "name": "python3",
      "display_name": "Python 3"
    },
    "language_info": {
      "name": "python"
    }
  },
  "cells": [
    {
      "cell_type": "markdown",
      "source": [
        "Worksheet 0\n"
      ],
      "metadata": {
        "id": "Ri-vOI3yeGu0"
      }
    },
    {
      "cell_type": "markdown",
      "source": [
        "Task 1\n"
      ],
      "metadata": {
        "id": "W0l1hFbbeVYw"
      }
    },
    {
      "cell_type": "code",
      "source": [
        "def convert_units():\n",
        "  \"\"\"\n",
        "  Converts between different units of measurement.\n",
        "\n",
        "  Returns:\n",
        "    None\n",
        "  \"\"\"\n",
        "  print(\"Choose conversation type:\")\n",
        "  print(\"1. Length (meters <-> feet)\")\n",
        "  print(\"2. Weight (kilograms <-> pounds)\")\n",
        "  print(\"3. Volume (liters <-> gallons)\")\n",
        "\n",
        "  try :\n",
        "    choice = int(input(\"Enter 1, 2, or 3:\"))\n",
        "\n",
        "    if choice == 1:\n",
        "      value = float(input(\"Enter value:\"))\n",
        "      unit = input(\"Enter unit (m/f):\").lower()\n",
        "      if unit == \"m\":\n",
        "        print(f\"{value} meters = {value * 3.28084} feet\")\n",
        "      elif unit == \"f\":\n",
        "        print(f\"{value} feet = {value / 3.28084} meters\")\n",
        "      else:\n",
        "        print(\"Invalid unit\")\n",
        "\n",
        "    elif choice == 2:\n",
        "      value = float(input(\"Enter value:\"))\n",
        "      unit = input(\"Enter unit (kg/lb):\").lower()\n",
        "      if unit == 'kg':\n",
        "        print(f\"{value} kilograms = {value * 2.20462} pounds\")\n",
        "      elif unit == 'lb':\n",
        "        print(f\"{value} pounds = {value / 2.20462} kilograms\")\n",
        "      else:\n",
        "        print(\"Invalid unit\")\n",
        "\n",
        "    elif choice == 3:\n",
        "      value = float(input(\"Enter value:\"))\n",
        "      unit = input(\"Enter unit (l/g):\").lower()\n",
        "      if unit == 'l':\n",
        "        print(f\"{value} liters = {value * 0.264172} gallons\")\n",
        "      elif unit == 'g':\n",
        "        print(f\"{value} gallons = {value / 0.264172} liters\")\n",
        "      else:\n",
        "        print(\"Invalid unit\")\n",
        "\n",
        "    else:\n",
        "      print(\"Invalid choice\")\n",
        "\n",
        "  except ValueError:\n",
        "    print(\"Invalid input\")\n",
        "\n",
        "convert_units()\n",
        "\n",
        "\n"
      ],
      "metadata": {
        "colab": {
          "base_uri": "https://localhost:8080/"
        },
        "id": "FSbpcte1eSkf",
        "outputId": "a1d7d298-e47e-4ab1-9cb4-fd486ee2f3a3"
      },
      "execution_count": null,
      "outputs": [
        {
          "output_type": "stream",
          "name": "stdout",
          "text": [
            "Choose conversation type:\n",
            "1. Length (meters <-> feet)\n",
            "2. Weight (kilograms <-> pounds)\n",
            "3. Volume (liters <-> gallons)\n",
            "Enter 1, 2, or 3:1\n",
            "Enter value:45\n",
            "Enter unit (m/f):m\n",
            "45.0 meters = 147.6378 feet\n"
          ]
        }
      ]
    },
    {
      "cell_type": "markdown",
      "source": [
        "Task 2\n"
      ],
      "metadata": {
        "id": "Kh_VNUcpguDy"
      }
    },
    {
      "cell_type": "code",
      "source": [
        "def calulate():\n",
        "  \"\"\"\n",
        "  Performs various mathmatical operations on a list of numbers.\n",
        "\n",
        "  Returns:\n",
        "     None:\n",
        "  \"\"\"\n",
        "  try:\n",
        "      numbers = list(map(float, input(\"Enter a list of numbers separated by spaces:\").split()))\n",
        "      if not numbers:\n",
        "         raise ValueError(\"No numbers entered.\")\n",
        "      print(\"Choose operations:\")\n",
        "      print(\"1. Sum\")\n",
        "      print(\"2. Average\")\n",
        "      print(\"3. Maximum\")\n",
        "      print(\"4. Minimum\")\n",
        "      choice = int(input(\"Enter 1, 2, 3, or 4:\"))\n",
        "\n",
        "      if choice == 1:\n",
        "        print(\"Sum:\", sum(numbers))\n",
        "      elif choice == 2:\n",
        "        print(\"Average:\", sum(numbers) / len(numbers))\n",
        "      elif choice == 3:\n",
        "        print(\"Maximum:\", max(numbers))\n",
        "      elif choice == 4:\n",
        "        print(\"Minimum:\", min(numbers))\n",
        "      else:\n",
        "        print(\"Invalid choice. Please enter 1, 2, 3, or 4.\")\n",
        "\n",
        "  except ValueError:\n",
        "      print(\"Invalid input. Please enter a list of numbers separated by spaces.\")\n",
        "\n",
        "calulate()\n"
      ],
      "metadata": {
        "colab": {
          "base_uri": "https://localhost:8080/"
        },
        "id": "7ZgLVLIVgvt2",
        "outputId": "3e3b7c48-0d45-419f-9ccf-9e5731a92fa1"
      },
      "execution_count": null,
      "outputs": [
        {
          "output_type": "stream",
          "name": "stdout",
          "text": [
            "Enter a list of numbers separated by spaces:2\n",
            "Choose operations:\n",
            "1. Sum\n",
            "2. Average\n",
            "3. Maximum\n",
            "4. Minimum\n",
            "Enter 1, 2, 3, or 4:4\n",
            "Minimum: 2.0\n"
          ]
        }
      ]
    },
    {
      "cell_type": "markdown",
      "source": [
        "Task 3\n"
      ],
      "metadata": {
        "id": "iaQvgCbdigYy"
      }
    },
    {
      "cell_type": "code",
      "source": [
        "def extract_every_other(list):\n",
        "    return lst[::2]\n",
        "\n",
        "def get_sublist(lst, start, end):\n",
        "    return lst[start:end+1]\n",
        "\n",
        "def reverse_list(lst):\n",
        "    return lst[::-1]\n",
        "\n",
        "def remove_first_and_last(lst):\n",
        "    return lst[1:-1]\n",
        "\n",
        "def get_first_n(lst, n):\n",
        "    return lst[n]\n",
        "\n",
        "def get_last_n(lst, n):\n",
        "    return lst[-n]\n",
        "def reverse_skip(lst):\n",
        "    return lst[-2::-2]\n",
        "\n",
        "lst = [1, 2, 3, 4, 5, 6, 7, 8, 9, 10]\n",
        "print(\"Every other element:\", extract_every_other(lst))\n",
        "print(\"Sublist:\", get_sublist(lst, 2, 6))\n",
        "print(\"Reversed list:\", reverse_list(lst))\n",
        "print(\"Removed first and last:\", remove_first_and_last(lst))\n",
        "print(\"First 3 elements:\", get_first_n(lst, 3))\n",
        "print(\"Last 3 elements:\", get_last_n(lst, 3))\n",
        "print(\"Reversed and skipped:\", reverse_skip(lst))\n"
      ],
      "metadata": {
        "colab": {
          "base_uri": "https://localhost:8080/"
        },
        "id": "kcHsLNLvihwD",
        "outputId": "ea4db249-a5fc-48a6-cebd-99c52b88e864"
      },
      "execution_count": null,
      "outputs": [
        {
          "output_type": "stream",
          "name": "stdout",
          "text": [
            "Every other element: [1, 3, 5, 7, 9]\n",
            "Sublist: [3, 4, 5, 6, 7]\n",
            "Reversed list: [10, 9, 8, 7, 6, 5, 4, 3, 2, 1]\n",
            "Removed first and last: [2, 3, 4, 5, 6, 7, 8, 9]\n",
            "First 3 elements: 4\n",
            "Last 3 elements: 8\n",
            "Reversed and skipped: [9, 7, 5, 3, 1]\n"
          ]
        }
      ]
    },
    {
      "cell_type": "markdown",
      "source": [
        "Task 4\n"
      ],
      "metadata": {
        "id": "szPK_-SHkQHr"
      }
    },
    {
      "cell_type": "code",
      "source": [
        "def flatten(lst):\n",
        "    return [item for Sublist in lst for item in (flatten(Sublist) if isinstance(Sublist, list)else [Sublist])]\n",
        "\n",
        "def access_nested_element(lst, indices):\n",
        "  for index in indices:\n",
        "    lst = lst[index]\n",
        "  return lst\n",
        "\n",
        "def sum_nested(lst):\n",
        "  return sum(flatten(lst))\n",
        "\n",
        "def remove_element(lst, elem):\n",
        "    return [item for item in lst if item != elem]\n",
        "\n",
        "def find_max(lst):\n",
        "  return max(flatten(lst))\n",
        "\n",
        "def count_occurences(lst, elem):\n",
        "  return flatten(lst).count(elem)\n",
        "\n",
        "def count_occurences(lst, elem):\n",
        "  return flatten(lst).count(elem)\n",
        "\n",
        "def deep_flatten(lst):\n",
        "  return flatten(lst)\n",
        "\n",
        "def average_nested(lst):\n",
        "    flat = flatten(lst)\n",
        "    return sum(flat)/len(flat)\n",
        "\n",
        "nested_lst = [[1,2], [3, [4,5]], 6]\n",
        "print(\"Flattened list:\", flatten(nested_lst))\n",
        "print(\"Accessed element:\", access_nested_element(nested_lst, [0,1]))\n",
        "print(\"Sum of nested list:\", sum_nested(nested_lst))\n",
        "print(\"Removed element:\", remove_element(nested_lst, 3))\n",
        "print(\"Max element:\", find_max(nested_lst))\n",
        "print(\"Count of element:\", count_occurences(nested_lst, 2))\n",
        "print(\"Deep flattened list:\", deep_flatten(nested_lst))\n",
        "print(\"Average of nested list:\", average_nested(nested_lst))"
      ],
      "metadata": {
        "colab": {
          "base_uri": "https://localhost:8080/"
        },
        "id": "52KvSzu-kSLi",
        "outputId": "a765ded3-9cea-444f-de5c-4becff823077"
      },
      "execution_count": null,
      "outputs": [
        {
          "output_type": "stream",
          "name": "stdout",
          "text": [
            "Flattened list: [1, 2, 3, 4, 5, 6]\n",
            "Accessed element: 2\n",
            "Sum of nested list: 21\n",
            "Removed element: [[1, 2], [3, [4, 5]], 6]\n",
            "Max element: 6\n",
            "Count of element: 1\n",
            "Deep flattened list: [1, 2, 3, 4, 5, 6]\n",
            "Average of nested list: 3.5\n"
          ]
        }
      ]
    },
    {
      "cell_type": "markdown",
      "source": [
        "**Numpy** **Exercises**"
      ],
      "metadata": {
        "id": "bDgLxhRfol3_"
      }
    },
    {
      "cell_type": "markdown",
      "source": [
        "Task 1"
      ],
      "metadata": {
        "id": "hVU9fZh3ouXV"
      }
    },
    {
      "cell_type": "code",
      "source": [
        "import numpy as np\n",
        "\n",
        "#creating arrays\n",
        "arr_1d = np.array([1,2,3,4,5])\n",
        "arr_2d = np.array([[1,2,3], [4,5,6]])\n",
        "arr_zeros = np.zeros((3,3))\n",
        "arr_ones = np.ones((2,2))\n",
        "arr_range = np.arange(1,10,2)\n",
        "arr_linspace = np.linspace(0,1,5)\n",
        "\n",
        "print(\"1D Array:\")\n",
        "print(arr_1d)\n",
        "print(\"2D Array:\")\n",
        "print(arr_2d)\n",
        "print(\"Zeros Array:\")\n",
        "print(arr_zeros)\n",
        "print(\"Ones Array:\")\n",
        "print(arr_ones)\n",
        "print(\"Range Array:\")\n",
        "print(arr_range)\n",
        "print(\"Linspace Array:\")\n",
        "print(arr_linspace)\n",
        "\n",
        "reshaped_arr = arr_1d.reshape(5,1)\n",
        "print(\"Reshaped 1D Array:\")\n",
        "print(reshaped_arr)\n",
        "\n",
        "print(\"Element at (0,1):\", arr_2d[0,1])\n",
        "print(\"First row:\", arr_2d[0,:])\n",
        "print(\"Second column:\", arr_2d[:,1])\n"
      ],
      "metadata": {
        "colab": {
          "base_uri": "https://localhost:8080/"
        },
        "id": "sRoBXE7nowpX",
        "outputId": "e489c460-3cc5-4918-b946-4e36372f6b33"
      },
      "execution_count": null,
      "outputs": [
        {
          "output_type": "stream",
          "name": "stdout",
          "text": [
            "1D Array:\n",
            "[1 2 3 4 5]\n",
            "2D Array:\n",
            "[[1 2 3]\n",
            " [4 5 6]]\n",
            "Zeros Array:\n",
            "[[0. 0. 0.]\n",
            " [0. 0. 0.]\n",
            " [0. 0. 0.]]\n",
            "Ones Array:\n",
            "[[1. 1.]\n",
            " [1. 1.]]\n",
            "Range Array:\n",
            "[1 3 5 7 9]\n",
            "Linspace Array:\n",
            "[0.   0.25 0.5  0.75 1.  ]\n",
            "Reshaped 1D Array:\n",
            "[[1]\n",
            " [2]\n",
            " [3]\n",
            " [4]\n",
            " [5]]\n",
            "Element at (0,1): 2\n",
            "First row: [1 2 3]\n",
            "Second column: [2 5]\n"
          ]
        }
      ]
    },
    {
      "cell_type": "markdown",
      "source": [
        "Task 2"
      ],
      "metadata": {
        "id": "GZTNj56PqN21"
      }
    },
    {
      "cell_type": "code",
      "source": [
        "#Arithmetic operations\n",
        "a = np.array([1, 2, 3])\n",
        "b = np.array([4, 5, 6])\n",
        "\n",
        "print(\"Addition:\", a + b)\n",
        "print(\"Subtraction:\", a - b)\n",
        "print(\"Multiplication:\", a * b)\n",
        "print(\"Division:\", a / b)\n",
        "\n",
        "#universal functions\n",
        "print(\"Exponential:\", np.exp(a))\n",
        "print(\"Square root:\", np.sqrt(a))\n",
        "print(\"Logarithm:\", np.log(a))\n",
        "\n",
        "#linear algebra operations\n",
        "matrix_a = np.array([[1, 2], [3, 4]])\n",
        "matrix_b = np.array([[5, 6], [7, 8]])\n",
        "\n",
        "print(\"Dot product:\", np.dot(matrix_a, matrix_b))\n",
        "print(\"Inverse of A:\", np.linalg.inv(matrix_a))\n",
        "print(\"Determinant of matrix_a:\", np.linalg.det(matrix_a))"
      ],
      "metadata": {
        "colab": {
          "base_uri": "https://localhost:8080/"
        },
        "id": "KdP04lklqPk-",
        "outputId": "a0d3743d-a637-4b79-db1e-c136b6710299"
      },
      "execution_count": null,
      "outputs": [
        {
          "output_type": "stream",
          "name": "stdout",
          "text": [
            "Addition: [5 7 9]\n",
            "Subtraction: [-3 -3 -3]\n",
            "Multiplication: [ 4 10 18]\n",
            "Division: [0.25 0.4  0.5 ]\n",
            "Exponential: [ 2.71828183  7.3890561  20.08553692]\n",
            "Square root: [1.         1.41421356 1.73205081]\n",
            "Logarithm: [0.         0.69314718 1.09861229]\n",
            "Dot product: [[19 22]\n",
            " [43 50]]\n",
            "Inverse of A: [[-2.   1. ]\n",
            " [ 1.5 -0.5]]\n",
            "Determinant of matrix_a: -2.0000000000000004\n"
          ]
        }
      ]
    },
    {
      "cell_type": "markdown",
      "source": [
        "Task 3"
      ],
      "metadata": {
        "id": "ZziDWG2RsSq2"
      }
    },
    {
      "cell_type": "code",
      "source": [
        "# silcing in 1D array\n",
        "arr = np.array([10, 20, 30, 40 ,50])\n",
        "print(\"First three elements:\", arr[:3])\n",
        "print(\"Last two elements:\", arr[-2:])\n",
        "print(\"Every other element:\", arr[::2])\n",
        "\n",
        "#slicing in 2D array\n",
        "arr_2d = np.array([[1, 2, 3], [4, 5, 6], [7, 8, 9]])\n",
        "print(\"First two rows:\", arr_2d[:2,:])\n",
        "print(\"Last column:\", arr_2d[:,-1])\n",
        "print(\"Submatrix:\", arr_2d[1:,1:])"
      ],
      "metadata": {
        "colab": {
          "base_uri": "https://localhost:8080/"
        },
        "id": "tmoEBxpTsUlO",
        "outputId": "56dd0df1-d1d7-4c86-f09f-fbe0f698a5bf"
      },
      "execution_count": null,
      "outputs": [
        {
          "output_type": "stream",
          "name": "stdout",
          "text": [
            "First three elements: [10 20 30]\n",
            "Last two elements: [40 50]\n",
            "Every other element: [10 30 50]\n",
            "First two rows: [[1 2 3]\n",
            " [4 5 6]]\n",
            "Last column: [3 6 9]\n",
            "Submatrix: [[5 6]\n",
            " [8 9]]\n"
          ]
        }
      ]
    },
    {
      "cell_type": "markdown",
      "source": [
        "Task 4\n"
      ],
      "metadata": {
        "id": "aBdfBDOzs5Uu"
      }
    },
    {
      "cell_type": "code",
      "source": [
        "#Broadcasting example\n",
        "A = np.array([[1], [2], [3]])\n",
        "B = np.array([4, 5, 6])\n",
        "C = A + B\n",
        "print(\"Broadcasted result:\", C)"
      ],
      "metadata": {
        "colab": {
          "base_uri": "https://localhost:8080/"
        },
        "id": "4nXQkJyqs6wC",
        "outputId": "0e30ade2-c972-4eb2-df8c-a2f2cb08be5d"
      },
      "execution_count": null,
      "outputs": [
        {
          "output_type": "stream",
          "name": "stdout",
          "text": [
            "Broadcasted result: [[5 6 7]\n",
            " [6 7 8]\n",
            " [7 8 9]]\n"
          ]
        }
      ]
    },
    {
      "cell_type": "markdown",
      "source": [
        "Task 5"
      ],
      "metadata": {
        "id": "J9pTmABwtu6D"
      }
    },
    {
      "cell_type": "code",
      "source": [
        "#handling index errors\n",
        "arr = np.array([1, 2, 3])\n",
        "try:\n",
        "   print(arr[3])\n",
        "except IndexError as e:\n",
        "   print(\"Index out of range\", e)\n",
        "\n",
        "#handling shape errors\n",
        "try:\n",
        "   a = np.array([1, 2, 3])\n",
        "   b = np.array([[4, 5], [6, 7]])\n",
        "   print(a + b)\n",
        "except ValueError as e:\n",
        "   print(\"Shape mismatch:\", e)"
      ],
      "metadata": {
        "colab": {
          "base_uri": "https://localhost:8080/"
        },
        "id": "h6NtxlR-twxC",
        "outputId": "a4453e5d-a86c-4222-9e5d-20c78a748d24"
      },
      "execution_count": null,
      "outputs": [
        {
          "output_type": "stream",
          "name": "stdout",
          "text": [
            "Index out of range index 3 is out of bounds for axis 0 with size 3\n",
            "Shape mismatch: operands could not be broadcast together with shapes (3,) (2,2) \n"
          ]
        }
      ]
    }
  ]
}