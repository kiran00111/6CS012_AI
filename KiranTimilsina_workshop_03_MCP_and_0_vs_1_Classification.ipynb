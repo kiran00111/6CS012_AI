{
  "nbformat": 4,
  "nbformat_minor": 0,
  "metadata": {
    "colab": {
      "provenance": []
    },
    "kernelspec": {
      "name": "python3",
      "display_name": "Python 3"
    },
    "language_info": {
      "name": "python"
    }
  },
  "cells": [
    {
      "cell_type": "markdown",
      "source": [
        "# Implementation of MCP Neuron for AND and OR Function."
      ],
      "metadata": {
        "id": "IY-_Zy_b71lD"
      }
    },
    {
      "cell_type": "code",
      "source": [
        "def MCP_Neurons_AND(X1, X2, T):\n",
        "  \"\"\"\n",
        "  This functions implements basic AND operations with MCP Neuron for two inputs.\n",
        "  Arguments:\n",
        "  Inputs:\n",
        "  X1 (1 nd array): An array of binary values.\n",
        "  X2 (1 nd array): An array of binary values.\n",
        "  Output:\n",
        "  state_neuron(1D-list): An state of neuron 1 0r 0 for the particular inputs.\n",
        "  \"\"\"\n",
        "  assert len(X1) == len(X2)\n",
        "  ### YOUR CODE HERE ###\n",
        "\n",
        "  # Perform an element wise addition of two input arrays stored in a new array(list):\n",
        "  # Create a new array to put all the prediction let's name that a state_neuron.\n",
        "  # Append 1 in sate_neuron if sum (element) of above list is above Threshold else append 0.\n",
        "  state_neuron = []\n",
        "  sum = [X1 +X2 for X1, X2 in zip(X1,X2)]\n",
        "  state_neuron = [1 if x >= T else 0 for x in sum]\n",
        "  return state_neuron"
      ],
      "metadata": {
        "id": "Fu-YDOe_8GJi"
      },
      "execution_count": null,
      "outputs": []
    },
    {
      "cell_type": "code",
      "source": [
        "# Example usage for MCP_Neurons_AND function\n",
        "X1 = [0, 0, 1, 1]\n",
        "X2 = [0, 1, 0, 1]\n",
        "T = 2  # Threshold value\n",
        "\n",
        "# Call the MCP_Neurons_AND function\n",
        "result = MCP_Neurons_AND(X1, X2, T)\n",
        "\n",
        "# Print the result\n",
        "print(f\"Output of AND gate for inputs {X1} and {X2} with threshold {T}: {result}\")\n"
      ],
      "metadata": {
        "colab": {
          "base_uri": "https://localhost:8080/"
        },
        "id": "e2-lKfat8ocN",
        "outputId": "28149bef-8d58-444f-87d0-bb542a269967"
      },
      "execution_count": null,
      "outputs": [
        {
          "output_type": "stream",
          "name": "stdout",
          "text": [
            "Output of AND gate for inputs [0, 0, 1, 1] and [0, 1, 0, 1] with threshold 2: [0, 0, 0, 1]\n"
          ]
        }
      ]
    },
    {
      "cell_type": "code",
      "source": [
        "def MCP_Neurons_OR(X1, X2, T):\n",
        "    \"\"\"\n",
        "    This function implements basic OR operations with MCP Neuron for two inputs.\n",
        "    Arguments:\n",
        "    Inputs:\n",
        "    X1 (1D array): An array of binary values.\n",
        "    X2 (1D array): An array of binary values.\n",
        "    Output:\n",
        "    state_neuron (1D list): The state of the neuron (1 or 0) for the particular inputs.\n",
        "    \"\"\"\n",
        "    assert len(X1) == len(X2)\n",
        "    ### YOUR CODE HERE ###\n",
        "    state_neuron = []\n",
        "    sum = [X1 +X2 for X1, X2 in zip(X1,X2)]\n",
        "    state_neuron = [1 if x >= T else 0 for x in sum]\n",
        "    # Perform an element wise addition of two input arrays stored in a new array(list):\n",
        "    # Create a new array to put all the prediction let's name that a state_neuron.\n",
        "    # Append 1 in sate_neuron if sum (element) of above list is above Threshold else append 0.\n",
        "\n",
        "    return state_neuron\n"
      ],
      "metadata": {
        "id": "7xaMXlLT9FHC"
      },
      "execution_count": null,
      "outputs": []
    },
    {
      "cell_type": "code",
      "source": [
        "# Example usage for MCP_Neurons_OR function\n",
        "X1 = [0, 0, 1, 1]\n",
        "X2 = [0, 1, 0, 1]\n",
        "T = 1  # Threshold value for OR gate\n",
        "\n",
        "# Call the MCP_Neurons_OR function\n",
        "result_or = MCP_Neurons_OR(X1, X2, T)\n",
        "\n",
        "# Print the result\n",
        "print(f\"Output of OR gate for inputs {X1} and {X2} with threshold {T}: {result_or}\")\n"
      ],
      "metadata": {
        "colab": {
          "base_uri": "https://localhost:8080/"
        },
        "id": "6H-YOy268_Jo",
        "outputId": "f05fbfcf-ca91-4bf4-e9ad-fee114c4ba00"
      },
      "execution_count": null,
      "outputs": [
        {
          "output_type": "stream",
          "name": "stdout",
          "text": [
            "Output of OR gate for inputs [0, 0, 1, 1] and [0, 1, 0, 1] with threshold 1: [0, 1, 1, 1]\n"
          ]
        }
      ]
    },
    {
      "cell_type": "markdown",
      "source": [
        "List out all the limitations of MCP - Neurons.\n"
      ],
      "metadata": {
        "id": "hfq0ryk9DiGv"
      }
    },
    {
      "cell_type": "markdown",
      "source": [
        "Weight and threshold are fixed.\n",
        "\n",
        "It can only solve linearly separable data.\n",
        "\n",
        "It fails in problem like XOR."
      ],
      "metadata": {
        "id": "wiyGqTsnDsJf"
      }
    },
    {
      "cell_type": "markdown",
      "source": [
        "Think if you can develop a logic to solve for XOR function using MCP Neuron.\n",
        "{Can you devise a if else rules.}"
      ],
      "metadata": {
        "id": "62wPSZbKDz-m"
      }
    },
    {
      "cell_type": "markdown",
      "source": [
        "if X1==X2:\n",
        "output=0\n",
        "else:\n",
        "output=1"
      ],
      "metadata": {
        "id": "6Ef8BWnkEI9_"
      }
    },
    {
      "cell_type": "markdown",
      "source": [
        "# Implementation for 0 Vs. 1 Classification."
      ],
      "metadata": {
        "id": "Apa9bfLIFJHe"
      }
    },
    {
      "cell_type": "markdown",
      "source": [
        "## Step 1: Load the Dataset"
      ],
      "metadata": {
        "id": "iom83mGLFP_1"
      }
    },
    {
      "cell_type": "code",
      "source": [
        "import pandas as pd\n",
        "import numpy as np\n",
        "import matplotlib.pyplot as plt\n",
        "\n",
        "\n",
        "# Load the dataset\n",
        "df_0_1 = pd.read_csv(\"mnist_0_and_1.csv\")  # Add the correct file path if necessary\n",
        "\n",
        "# Extract features and labels\n",
        "X = df_0_1.drop(columns=[\"label\"]).values  # 784 pixels\n",
        "y = df_0_1[\"label\"].values  # Labels (0 or 1)\n",
        "\n",
        "# Check the shape of the features and labels\n",
        "print(\"Feature matrix shape:\", X.shape)\n",
        "print(\"Label vector shape:\", y.shape)\n"
      ],
      "metadata": {
        "colab": {
          "base_uri": "https://localhost:8080/"
        },
        "id": "7rkW58ct9IYq",
        "outputId": "fb7b686e-6723-44e7-8f2f-9cbc35005869"
      },
      "execution_count": null,
      "outputs": [
        {
          "output_type": "stream",
          "name": "stdout",
          "text": [
            "Feature matrix shape: (2312, 784)\n",
            "Label vector shape: (2312,)\n"
          ]
        }
      ]
    },
    {
      "cell_type": "markdown",
      "source": [
        "What does the shape of X represent?\n",
        "\n",
        "X represent the pixel of image.\n",
        "\n",
        "What does the shape of Y represent?\n",
        "\n",
        "Y represent class label of image (0, 1)"
      ],
      "metadata": {
        "id": "dW6try9AEXBB"
      }
    },
    {
      "cell_type": "markdown",
      "source": [
        "### Viewing the Dataset."
      ],
      "metadata": {
        "id": "jlq0EY2jHheD"
      }
    },
    {
      "cell_type": "code",
      "source": [
        "# Separate images for label 0 and label 1\n",
        "images_0 = X[y == 0]  # Get all images with label 0\n",
        "images_1 = X[y == 1]  # Get all images with label 1\n",
        "\n",
        "fig, axes = plt.subplots(2, 5, figsize=(10, 5))\n",
        "\n",
        "# Check if the arrays have the required amount of data\n",
        "if len(images_0) < 5 or len(images_1) < 5:\n",
        "    print(\"Error: Not enough images in images_0 or images_1 to plot 5 images.\")\n",
        "else:\n",
        "    for i in range(5):\n",
        "        # Plot digit 0\n",
        "        axes[0, i].imshow(images_0[i].reshape(28, 28), cmap=\"gray\")\n",
        "        axes[0, i].set_title(\"Label: 0\")\n",
        "        axes[0, i].axis(\"off\")\n",
        "        # Plot digit 1\n",
        "        axes[1, i].imshow(images_1[i].reshape(28, 28), cmap=\"gray\")\n",
        "        axes[1, i].set_title(\"Label: 1\")\n",
        "        axes[1, i].axis(\"off\")\n",
        "    plt.suptitle(\"First 5 Images of 0 and 1 from MNIST Subset\")\n",
        "    plt.show()"
      ],
      "metadata": {
        "colab": {
          "base_uri": "https://localhost:8080/",
          "height": 451
        },
        "id": "XKY2qjhCHAZ7",
        "outputId": "190bf405-ffce-4794-b7d4-b2e0dff21824"
      },
      "execution_count": null,
      "outputs": [
        {
          "output_type": "display_data",
          "data": {
            "text/plain": [
              "<Figure size 1000x500 with 10 Axes>"
            ],
            "image/png": "[encoded data removed]"
          },
          "metadata": {}
        }
      ]
    },
    {
      "cell_type": "markdown",
      "source": [
        "## Step - 2 - Initializing the Weights:"
      ],
      "metadata": {
        "id": "qyM34tbHIqGi"
      }
    },
    {
      "cell_type": "code",
      "source": [
        "# Initialize weights and bias\n",
        "weights = np.zeros(X.shape[1])  # 784 weights (one for each pixel)\n",
        "bias = 0\n",
        "learning_rate = 0.1\n",
        "epochs = 100"
      ],
      "metadata": {
        "id": "SMsXaZ38HfBI"
      },
      "execution_count": null,
      "outputs": []
    },
    {
      "cell_type": "markdown",
      "source": [
        "What does the weights array represent in this context ?\n",
        "\n",
        "The weights array represents the learnable parameter in this context."
      ],
      "metadata": {
        "id": "wkeGnG2HFAD8"
      }
    },
    {
      "cell_type": "markdown",
      "source": [
        "Why are we initializing the weights to zero ? What effect could this have on the training process?\n",
        "\n",
        "We initialize the weights to zero to provide a neutral starting point for training, ensuring that the model does not start with any inherent biases. However, in multi-layer neural networks, this can lead to problems, such as symmetry, where all neurons in a layer learn the same features and fail to diversify. This can hinder the model's ability to learn effectively."
      ],
      "metadata": {
        "id": "1Zwh7V7XFjVH"
      }
    },
    {
      "cell_type": "markdown",
      "source": [
        "## Step - 3 - Make a Decision function:"
      ],
      "metadata": {
        "id": "EvraDxaeRVeo"
      }
    },
    {
      "cell_type": "code",
      "source": [
        "import numpy as np\n",
        "\n",
        "def decision_function(X, weights, bias):\n",
        "    \"\"\"\n",
        "    Compute the predicted labels for the input data.\n",
        "\n",
        "    Parameters:\n",
        "    - X: Features (input data) as a numpy array of shape (n_samples, n_features)\n",
        "    - weights: Updated weights after training\n",
        "    - bias: Updated bias after training\n",
        "\n",
        "    Returns:\n",
        "    - y_pred_all: The predicted labels for the input data\n",
        "    \"\"\"\n",
        "    predictions = np.dot(X, weights) + bias\n",
        "    y_pred_all = np.where(predictions >= 0, 1, 0)\n",
        "    #####Your Code Here############  # Activation function (step function)\n",
        "    return y_pred_all"
      ],
      "metadata": {
        "id": "6uVj75txLWQi"
      },
      "execution_count": null,
      "outputs": []
    },
    {
      "cell_type": "markdown",
      "source": [
        "## Step - 3 - Implement the Perceptron Learning Algorithm"
      ],
      "metadata": {
        "id": "AVZNGyRdI4I4"
      }
    },
    {
      "cell_type": "code",
      "source": [
        "def train_perceptron(X, y, weights, bias, learning_rate=0.1, epochs=100):\n",
        "    \"\"\"\n",
        "    Train the perceptron using the Perceptron Learning Algorithm.\n",
        "\n",
        "    Parameters:\n",
        "    - X: Features (input data) as a numpy array of shape (n_samples, n_features)\n",
        "    - y: Labels (true output) as a numpy array of shape (n_samples,)\n",
        "    - weights: Initial weights as a numpy array of shape (n_features,)\n",
        "    - bias: Initial bias value (scalar)\n",
        "    - learning_rate: Learning rate for weight updates (default is 0.1)\n",
        "    - epochs: Number of iterations to train the model (default is 100)\n",
        "\n",
        "    Returns:\n",
        "    - weights: Updated weights after training\n",
        "    - bias: Updated bias after training\n",
        "    - accuracy: Total correct prediction.\n",
        "    \"\"\"\n",
        "    # Step 3: Perceptron Learning Algorithm\n",
        "    # Your Code here#\n",
        "    n_samples = X.shape[0]\n",
        "\n",
        "    for epoch in range(epochs):\n",
        "        correct_predictions = 0\n",
        "        for i in range(n_samples):\n",
        "            linear_output = np.dot(X[i], weights) + bias\n",
        "            y_pred = np.where(linear_output >= 0, 1, 0)\n",
        "            if y_pred == y[i]:\n",
        "                update = learning_rate * (y[i] - y_pred)\n",
        "                weights += update * X[i]\n",
        "                bias += update\n",
        "\n",
        "            else:\n",
        "                correct_predictions += 1\n",
        "\n",
        "        accuracy = correct_predictions / n_samples\n",
        "\n",
        "        if epoch % 10 == 0:\n",
        "            print(f\"Epoch {epoch}, Accuracy: {accuracy}\")\n",
        "\n",
        "    return weights, bias, accuracy"
      ],
      "metadata": {
        "id": "Dg1ocrycJWpA"
      },
      "execution_count": null,
      "outputs": []
    },
    {
      "cell_type": "markdown",
      "source": [
        "What is the purpose of the output = np.dot(X[i], weights) + bias line?\n",
        "\n",
        "The line output = np.dot(X[i], weights) + bias calculates the linear combination of input features and their corresponding weights, including the bias term.\n",
        "\n",
        "When the prediction is incorrect, the weights and bias are adjusted using the Perceptron Learning Rule to improve future predictions.\n",
        "\n",
        "Final accuracy is crucial as it reflects the model's performance on unseen data. Ideally, the accuracy should be close to 1."
      ],
      "metadata": {
        "id": "iDjeG7A8Hu7U"
      }
    },
    {
      "cell_type": "markdown",
      "source": [
        "## Training the Perceptron"
      ],
      "metadata": {
        "id": "Va6AGI6iMAG9"
      }
    },
    {
      "cell_type": "code",
      "source": [
        "# After training the model with the perceptron_learning_algorithm\n",
        "weights, bias, accuracy = train_perceptron(X, y, weights, bias)\n",
        "\n",
        "# Evaluate the model using the new function\n",
        "print(\"The Final Accuracy is: \", accuracy)"
      ],
      "metadata": {
        "colab": {
          "base_uri": "https://localhost:8080/"
        },
        "id": "cn8XBYuZLswI",
        "outputId": "1b6cd1ac-3f8d-4e0b-83a1-196864cb8fd7"
      },
      "execution_count": null,
      "outputs": [
        {
          "output_type": "stream",
          "name": "stdout",
          "text": [
            "Epoch 0, Accuracy: 0.4710207612456747\n",
            "Epoch 10, Accuracy: 0.4710207612456747\n",
            "Epoch 20, Accuracy: 0.4710207612456747\n",
            "Epoch 30, Accuracy: 0.4710207612456747\n",
            "Epoch 40, Accuracy: 0.4710207612456747\n",
            "Epoch 50, Accuracy: 0.4710207612456747\n",
            "Epoch 60, Accuracy: 0.4710207612456747\n",
            "Epoch 70, Accuracy: 0.4710207612456747\n",
            "Epoch 80, Accuracy: 0.4710207612456747\n",
            "Epoch 90, Accuracy: 0.4710207612456747\n",
            "The Final Accuracy is:  0.4710207612456747\n"
          ]
        }
      ]
    },
    {
      "cell_type": "markdown",
      "source": [
        "## Step 5: Visualize Misclassified Images"
      ],
      "metadata": {
        "id": "-SLq1jbSMKPm"
      }
    },
    {
      "cell_type": "code",
      "source": [
        "# Get predictions for all data points\n",
        "predictions = np.dot(X, weights) + bias\n",
        "y_pred = np.where(predictions >= 0, 1, 0)\n",
        "\n",
        "# Calculate final accuracy\n",
        "final_accuracy = np.mean(y_pred == y)\n",
        "print(f\"Final Accuracy: {final_accuracy:.4f}\")\n",
        "\n",
        "# Step 5: Visualize Misclassified Images\n",
        "misclassified_idx = np.where(y_pred != y)[0]\n",
        "if len(misclassified_idx) > 0:\n",
        "    fig, axes = plt.subplots(2, 5, figsize=(10, 5))\n",
        "    for ax, idx in zip(axes.flat, misclassified_idx[:10]):  # Show 10 misclassified images\n",
        "        ax.imshow(X[idx].reshape(28, 28), cmap=\"gray\")\n",
        "        ax.set_title(f\"Pred: {y_pred[idx]}, True: {y[idx]}\")\n",
        "        ax.axis(\"off\")\n",
        "    plt.suptitle(\"Misclassified Images\")\n",
        "    plt.show()\n",
        "else:\n",
        "    print(\"All images were correctly classified!\")"
      ],
      "metadata": {
        "colab": {
          "base_uri": "https://localhost:8080/",
          "height": 468
        },
        "id": "KAMz1RPGMN_A",
        "outputId": "440be250-632b-4e9c-f107-84c067856235"
      },
      "execution_count": null,
      "outputs": [
        {
          "output_type": "stream",
          "name": "stdout",
          "text": [
            "Final Accuracy: 0.5290\n"
          ]
        },
        {
          "output_type": "display_data",
          "data": {
            "text/plain": [
              "<Figure size 1000x500 with 10 Axes>"
            ],
            "image/png": "[encoded data removed]"
          },
          "metadata": {}
        }
      ]
    },
    {
      "cell_type": "markdown",
      "source": [
        "What does misclassified idx store, and how is it used in this code?\n",
        "\n",
        "The variable misclassified_idx stores the indices of misclassified samples in the validation set.\n",
        "\n",
        "If the output displays \"All images were correctly classified!\", it means misclassified_idx is empty, indicating that all predictions were correct."
      ],
      "metadata": {
        "id": "z_iFpt7jInxm"
      }
    },
    {
      "cell_type": "markdown",
      "source": [
        "For the non binary data the classification is completely wrong."
      ],
      "metadata": {
        "id": "eFMV0ciJJAeE"
      }
    },
    {
      "cell_type": "code",
      "source": [
        "import numpy as np\n",
        "import matplotlib.pyplot as plt\n",
        "import pandas as pd\n",
        "\n",
        "# Load the dataset\n",
        "df1 = pd.read_csv(\"mnist_3_and_5.csv\")\n",
        "\n",
        "#Extract features and labels\n",
        "X1 = df1.drop(columns=[\"label\"]).values\n",
        "y1= df1[\"label\"].values\n",
        "\n",
        "y1 = np.where(y1 == 5, 1, 0)\n",
        "\n",
        "\n",
        "weights = np.zeros(X1.shape[1])\n",
        "bias = 0\n",
        "learning_rate = 0.1\n",
        "epochs = 100\n",
        "\n",
        "def train_perceptron(X, y, weights, bias, learning_rate=0.1, epochs=100):\n",
        "  \"\"\"\n",
        "  Train the perceptron using the Perceptron Learning Algorithm.\n",
        "\n",
        "  Parameters:\n",
        "  - X: Features (input data) as a numpy array of shape (n_samples, n_features)\n",
        "  - y: Target labels (binary : 0 or 1)\n",
        "  - weights: Initial weights as a numpy array of shape (n_features,)\n",
        "  -bias: Initial bias value (scalar)\n",
        "  - learning_rate: Learning rate\n",
        "  - epochs: Number of iterations\n",
        "\n",
        "  Returns\n",
        "  -updated wights, bias, and accuracy\n",
        "  \"\"\"\n",
        "  n_samples = X.shape[0]\n",
        "\n",
        "  for epoch in range(epochs):\n",
        "    correct_predictions = 0\n",
        "\n",
        "    for i in range(n_samples):\n",
        "      linear_output = np.dot(X[i], weights) + bias\n",
        "      y_pred = 1 if linear_output >= 0 else 0\n",
        "\n",
        "\n",
        "      if y_pred == y[i]:\n",
        "        update = learning_rate * (y[i] - y_pred)\n",
        "        weights += update * X[i]\n",
        "        bias += update\n",
        "\n",
        "      else:\n",
        "        correct_predictions += 1\n",
        "\n",
        "    accuracy = correct_predictions / n_samples\n",
        "    if epoch % 10 == 0 or epoch == epochs - 1:\n",
        "      print(f\"Epoch {epoch + 1}/{epochs} - Accuracy: {accuracy:.4f}\")\n",
        "\n",
        "  return weights, bias, accuracy\n",
        "\n",
        "  #Train the preceptron\n",
        "  weights, bias, accuracy = train_perceptron(X1, y1, weights, bias, learning_rate, epochs)\n",
        "\n",
        "  #Evaluate the model using the new function\n",
        "  print(\"The Final Accuracy is: \", accuracy)\n",
        "\n",
        "  predictions = np.dot(X1, weights) + bias\n",
        "  y_pred = np.where(predictions >= 0, 1, 0)\n",
        "\n",
        "  #Calucate final accuracy\n",
        "  final_accuracy = np.mean(y_pred == y1)\n",
        "  print(f\"Final Accuracy: {final_accuracy:.4f}\")\n",
        "\n",
        "  misclassified_idx = np.where(y_pred != y1)[0]\n",
        "\n",
        "  if len(misclassified_idx) > 0:\n",
        "    fig, axes = plt.subplots(2, 5, figsize=(10, 5))\n",
        "    for ax, idx in zip(axes.flat, misclassified_idx[:10]):\n",
        "      ax.imshow(X[idx].reshape(28, 28), cmap=\"gray\")\n",
        "      # Format the title as \"Predicted : 3, True: 5\"\n",
        "      ax.set_title(f\"Predicted: {y_pred[idx]}, True: {y[idx]}\")\n",
        "      ax.axis(\"off\")\n",
        "    plt.suptitle(\"Misclassified Images\")\n",
        "    plt.show()\n",
        "  else:\n",
        "    print(\"All images were correctly classified!\")"
      ],
      "metadata": {
        "id": "UQcaeivLJ1Ug"
      },
      "execution_count": null,
      "outputs": []
    }
  ]
}